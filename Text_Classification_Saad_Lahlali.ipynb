{
  "nbformat": 4,
  "nbformat_minor": 0,
  "metadata": {
    "colab": {
      "name": "Text Classification Saad Lahlali.ipynb",
      "provenance": [],
      "collapsed_sections": [
        "kTSbE9ckAVZW",
        "syMlhwHOgEN3",
        "I10nMAmFaBGh",
        "wfInxTZ_Z5_0",
        "Ki-e4t3qFdNd",
        "cBZnPp93Fsra",
        "tRZ9YPDvjo1Z",
        "7ADHi11kghRn",
        "QrwXBkldge-v",
        "UJoHPvLZSXZM",
        "vHRG84xCcLd5"
      ]
    },
    "kernelspec": {
      "display_name": "Python 3",
      "language": "python",
      "name": "python3"
    },
    "language_info": {
      "codemirror_mode": {
        "name": "ipython",
        "version": 3
      },
      "file_extension": ".py",
      "mimetype": "text/x-python",
      "name": "python",
      "nbconvert_exporter": "python",
      "pygments_lexer": "ipython3",
      "version": "3.7.3"
    }
  },
  "cells": [
    {
      "cell_type": "markdown",
      "metadata": {
        "id": "kTSbE9ckAVZW"
      },
      "source": [
        "# Importing packages"
      ]
    },
    {
      "cell_type": "code",
      "metadata": {
        "id": "DU-B8ZPCMw-M"
      },
      "source": [
        "\n",
        "import tensorflow as tf\n",
        "\n",
        "import tensorflow.keras\n",
        "from tensorflow.keras import layers\n",
        "from tensorflow.keras.layers import Input, Embedding, Dense, Dropout\n",
        "from tensorflow.keras.models import Model, load_model\n",
        "import tensorflow.keras.backend as K\n",
        "from  tensorflow.keras import Sequential\n",
        "from tensorflow.keras.layers import GlobalAveragePooling1D\n",
        "\n",
        "\n",
        "import numpy as np\n",
        "import os\n",
        "import json\n",
        "\n",
        "import matplotlib.pyplot as plt\n",
        "%matplotlib inline"
      ],
      "execution_count": null,
      "outputs": []
    },
    {
      "cell_type": "markdown",
      "metadata": {
        "id": "syMlhwHOgEN3"
      },
      "source": [
        "# Instructions"
      ]
    },
    {
      "cell_type": "code",
      "metadata": {
        "colab": {
          "base_uri": "https://localhost:8080/",
          "height": 103
        },
        "id": "TuLG71A5Mw96",
        "outputId": "979277c9-c56e-4e96-fe6e-7570d32ff448"
      },
      "source": [
        "\"\"\"The goal of this lab is to classify Wikipedia abstracts about people by their professions. For example, the professions of Elvis Presley are \"singer\" and \"actor\".\n",
        "\n",
        "=== Input ===\n",
        "\n",
        "The input for training is a file wiki-train.json, which contains Wikipedia abstracts in the following form:\n",
        "   {\"title\": \"George_Washington\",\n",
        "    \"summary\": \"George Washington was one of the ...\"\n",
        "    \"occupations\": [\"yago:politician\"]}\n",
        "\n",
        "The input for testing is a file wiki-test.json, which contains Wikipedia abstracts of the same shape without the occupations:\n",
        "\n",
        "   {\"title\": \"Douglas_Adams\",\n",
        "    \"summary\": \"Douglas Noel Adams was ...\"}\n",
        "\n",
        "=== Output ===\n",
        "\n",
        "The output shall be a JSON file that assigns each Wikipedia abstract to a set of occupations:\n",
        "   {\"title\": \"Douglas_Adams\",\n",
        "    \"occupations\": [\"Q36180\", \"Q28389\"]}\n",
        "\n",
        "We provide a gold standard of this form for the development input file.\n",
        "\n",
        "=== Datasets ===\n",
        "\n",
        "We provide 3 datasets:\n",
        "1) a training dataset, which has the labels\n",
        "2) a development dataset, which has the labels\n",
        "3) a testing dataset, which does not have the labels, and which we use for grading\n",
        "\n",
        "=== What to do ===\n",
        "\n",
        "Adapt the method create_model(), so that it creates a neural network model that classifies the sentence.\n",
        "There is no need to modify the other parts of the code -- although you are allowed to do so.\n",
        "\n",
        "=== Suggestions ===\n",
        "1) Select a suitable theta value\n",
        "Reference: held-out set, cross validation, grid search...\n",
        "\n",
        "2) Use pre-trained embeddings\n",
        "reference: word2vector, GloVe, FastText...\n",
        "\n",
        "3) Add extra features\n",
        "reference: stop words, part-of-speech...\n",
        "\n",
        "4) Try other neural networks\n",
        "reference: CNN, RNN, Attention, Transformer\n",
        "\n",
        "5) Avoid overfitting\n",
        "reference: regularization, dropout...\n",
        "\n",
        "6) Adjust other parameters\n",
        "reference: learning rate, batch_size, epoch, layer's dimension\n",
        "\n",
        "==== Submission ===\n",
        "\n",
        "1) Take your code, any necessary resources to run the code, and the output of your code on the test dataset (no need to put the other datasets!)\n",
        "2) ZIP these files in a file called firstName_lastName.zip\n",
        "3) submit it here before the deadline announced during the lab:\n",
        "\n",
        "https://www.dropbox.com/request/zwBcRYj17giDjCyPqFQM\n",
        "\n",
        "\"\"\""
      ],
      "execution_count": 10,
      "outputs": [
        {
          "output_type": "execute_result",
          "data": {
            "application/vnd.google.colaboratory.intrinsic+json": {
              "type": "string"
            },
            "text/plain": [
              "'The goal of this lab is to classify Wikipedia abstracts about people by their professions. For example, the professions of Elvis Presley are \"singer\" and \"actor\".\\n\\n=== Input ===\\n\\nThe input for training is a file wiki-train.json, which contains Wikipedia abstracts in the following form:\\n   {\"title\": \"George_Washington\",\\n    \"summary\": \"George Washington was one of the ...\"\\n    \"occupations\": [\"yago:politician\"]}\\n\\nThe input for testing is a file wiki-test.json, which contains Wikipedia abstracts of the same shape without the occupations:\\n\\n   {\"title\": \"Douglas_Adams\",\\n    \"summary\": \"Douglas Noel Adams was ...\"}\\n\\n=== Output ===\\n\\nThe output shall be a JSON file that assigns each Wikipedia abstract to a set of occupations:\\n   {\"title\": \"Douglas_Adams\",\\n    \"occupations\": [\"Q36180\", \"Q28389\"]}\\n\\nWe provide a gold standard of this form for the development input file.\\n\\n=== Datasets ===\\n\\nWe provide 3 datasets:\\n1) a training dataset, which has the labels\\n2) a development dataset, which has the labels\\n3) a testing dataset, which does not have the labels, and which we use for grading\\n\\n=== What to do ===\\n\\nAdapt the method create_model(), so that it creates a neural network model that classifies the sentence.\\nThere is no need to modify the other parts of the code -- although you are allowed to do so.\\n\\n=== Suggestions ===\\n1) Select a suitable theta value\\nReference: held-out set, cross validation, grid search...\\n\\n2) Use pre-trained embeddings\\nreference: word2vector, GloVe, FastText...\\n\\n3) Add extra features\\nreference: stop words, part-of-speech...\\n\\n4) Try other neural networks\\nreference: CNN, RNN, Attention, Transformer\\n\\n5) Avoid overfitting\\nreference: regularization, dropout...\\n\\n6) Adjust other parameters\\nreference: learning rate, batch_size, epoch, layer\\'s dimension\\n\\n==== Submission ===\\n\\n1) Take your code, any necessary resources to run the code, and the output of your code on the test dataset (no need to put the other datasets!)\\n2) ZIP these files in a file called firstName_lastName.zip\\n3) submit it here before the deadline announced during the lab:\\n\\nhttps://www.dropbox.com/request/zwBcRYj17giDjCyPqFQM\\n\\n'"
            ]
          },
          "metadata": {},
          "execution_count": 10
        }
      ]
    },
    {
      "cell_type": "markdown",
      "metadata": {
        "id": "I10nMAmFaBGh"
      },
      "source": [
        "# Original Code"
      ]
    },
    {
      "cell_type": "code",
      "metadata": {
        "id": "XmcmfjNKMw-F"
      },
      "source": [
        "# Install necessary modules\n",
        "import sys\n",
        "import subprocess\n",
        "import os\n",
        "os.environ['TF_CPP_MIN_LOG_LEVEL'] = '2'\n",
        "\n",
        "file1 = open('requirements.txt', 'r')\n",
        "requirements = file1.readlines()\n",
        "for req in requirements:\n",
        "    reqs = subprocess.check_call([sys.executable, '-m', 'pip', 'install', '--upgrade', req.strip(\"\\n\"), '--quiet'])"
      ],
      "execution_count": 6,
      "outputs": []
    },
    {
      "cell_type": "code",
      "metadata": {
        "colab": {
          "base_uri": "https://localhost:8080/"
        },
        "id": "TCvrMsa1Mw-G",
        "outputId": "3e1f2429-441c-43ea-e40d-d654b2199532"
      },
      "source": [
        "\"\"\"\n",
        "This cell imports modules necessary to run this lab.\n",
        "\"\"\"\n",
        "import gzip\n",
        "import json\n",
        "import nltk\n",
        "from tqdm import tqdm\n",
        "import numpy as np\n",
        "from keras.preprocessing.sequence import pad_sequences\n",
        "nltk.download('punkt')"
      ],
      "execution_count": 7,
      "outputs": [
        {
          "output_type": "stream",
          "name": "stderr",
          "text": [
            "[nltk_data] Downloading package punkt to /root/nltk_data...\n",
            "[nltk_data]   Unzipping tokenizers/punkt.zip.\n"
          ]
        },
        {
          "output_type": "execute_result",
          "data": {
            "text/plain": [
              "True"
            ]
          },
          "metadata": {},
          "execution_count": 7
        }
      ]
    },
    {
      "cell_type": "code",
      "metadata": {
        "id": "wJSus-iUMw-I"
      },
      "source": [
        "\"\"\"\n",
        "This cell provides some basic function to extracting occupations.\n",
        "There is no need to modify this file unless you want.\n",
        "\"\"\"\n",
        "\n",
        "class InputSample(object):\n",
        "    def __init__(self, title, summary, occupation):\n",
        "        self.title = title\n",
        "        self.summary = summary\n",
        "        self.occupation = occupation\n",
        "\n",
        "\n",
        "def pad_sentence(sentence, max_len):\n",
        "    '''\n",
        "    make all sentences have the same length\n",
        "    :param sentence:\n",
        "    :param max_len:\n",
        "    :return:\n",
        "    '''\n",
        "    seg_id = pad_sequences([sentence], maxlen=max_len, padding='post')\n",
        "    return seg_id[0]\n",
        "\n",
        "\n",
        "def get_label():\n",
        "    occupations = [\n",
        "        'yago:Politician',\n",
        "        'yago:Researcher',\n",
        "        'yago:Football_player',\n",
        "        'yago:Writer',\n",
        "        'yago:Actor',\n",
        "        'yago:Painter',\n",
        "        'yago:Journalist',\n",
        "        'yago:University_teacher',\n",
        "        'yago:Singer',\n",
        "        'yago:Poet',\n",
        "        'yago:Composer',\n",
        "        'yago:Military_personnel',\n",
        "        'yago:Lawyer',\n",
        "        'yago:Film_actor',\n",
        "        'yago:Businessperson',\n",
        "        'yago:Historian',\n",
        "        'yago:Musician',\n",
        "        'yago:Film_director',\n",
        "        'yago:Screenwriter',\n",
        "        'yago:Physician'\n",
        "    ]\n",
        "\n",
        "    labels = {occ_id: index for index, occ_id in enumerate(occupations)}\n",
        "    id_to_labels = {index: occ_id for index, occ_id in enumerate(occupations)}\n",
        "    return labels, id_to_labels\n",
        "\n",
        "\n",
        "def load_data(filename):\n",
        "    '''\n",
        "    load original data\n",
        "    :param filename:\n",
        "    :return:\n",
        "    '''\n",
        "    with gzip.open(filename, 'rt') as fp:\n",
        "        for line in fp:\n",
        "            people = json.loads(line)\n",
        "            occ_key = 'occupations'\n",
        "            occupations = people[occ_key] if occ_key in people else None\n",
        "            sample = InputSample(people['title'], people['summary'], occupations)\n",
        "            yield sample\n",
        "\n",
        "\n",
        "def gen_vocabulary(data_file, vocab_file):\n",
        "    '''\n",
        "    generate a word list given an input corpus\n",
        "    :param data_file:\n",
        "    :param vocab_file:\n",
        "    :return:\n",
        "    '''\n",
        "    vocab = set()\n",
        "    for sample in tqdm(load_data(data_file)):\n",
        "        sentence = str.lower(sample.summary)\n",
        "        tokens = nltk.word_tokenize(sentence)\n",
        "        vocab.update(set(tokens))\n",
        "\n",
        "    with open(vocab_file, 'w', encoding='utf8')as f:\n",
        "        f.write('\\n'.join(list(vocab)))\n",
        "\n",
        "    print('done! The size of vocabulary is {a}.'.format(a=len(vocab)))\n",
        "\n",
        "\n",
        "def load_vocabulary(vocab_file):\n",
        "    '''\n",
        "    load vocabulary and create an id for each token.\n",
        "    <pad> means padding token, <unk> means unknown token\n",
        "    :param vocab_file:\n",
        "    :return:\n",
        "    '''\n",
        "    vocab_to_id = dict()\n",
        "    with open(vocab_file, encoding='utf8')as f:\n",
        "        words = f.readlines()\n",
        "        for w_id, word in enumerate(words):\n",
        "            word = word.replace('\\n', '')\n",
        "            vocab_to_id[word] = w_id+1\n",
        "    vocab_to_id['<pad>'] = 0\n",
        "    vocab_to_id['<unk>'] = len(vocab_to_id)\n",
        "    return vocab_to_id\n",
        "\n",
        "\n",
        "def read_dataset(data_file, vocab_to_id, sent_len, debug=False):\n",
        "    '''\n",
        "    read training set or test set\n",
        "    :param data_file:\n",
        "    :param vocab_to_id:\n",
        "    :param sent_len: the\n",
        "    :param debug: load only a small fraction of samples to debug\n",
        "    :return: model's input and labels\n",
        "    need about 1min31s for training set and 2min for test set\n",
        "    '''\n",
        "\n",
        "    labels, _ = get_label()\n",
        "    unknown_id = len(vocab_to_id) - 1\n",
        "    data_x, data_y = list(), list()\n",
        "    cnt = 0\n",
        "    \n",
        "    for sample in tqdm(load_data(data_file)):\n",
        "        # print(sample)\n",
        "\n",
        "        # for debugging\n",
        "        cnt += 1\n",
        "        if debug and cnt > 100:\n",
        "            break\n",
        "\n",
        "        summary = str.lower(sample.summary)\n",
        "        tokens = nltk.word_tokenize(summary)\n",
        "        token_ids = [vocab_to_id.get(t, unknown_id) for t in tokens]\n",
        "        token_ids = pad_sentence(token_ids, sent_len)\n",
        "        data_x.append(token_ids)\n",
        "        occupations = sample.occupation\n",
        "\n",
        "        # train\n",
        "        if occupations:\n",
        "            y_vector = [1 if label in occupations else 0 for label in labels]\n",
        "            data_y.append(y_vector)\n",
        "        # test\n",
        "        else:\n",
        "            data_y.append(0)\n",
        "\n",
        "    return np.array(data_x), np.array(data_y)\n",
        "\n",
        "\n",
        "def f1_score(true_labels, pred_labels):\n",
        "    \"\"\"Compute the F1 score.\"\"\"\n",
        "    nb_correct, nb_pred, nb_true = 0, 0, 0\n",
        "    for true, pred in zip(true_labels, pred_labels):\n",
        "        nb_correct += len(true & pred)\n",
        "        nb_pred += len(pred)\n",
        "        nb_true += len(true)\n",
        "\n",
        "    p = nb_correct / nb_pred if nb_pred > 0 else 0\n",
        "    r = nb_correct / nb_true if nb_true > 0 else 0\n",
        "    score = 2 * p * r / (p + r) if p + r > 0 else 0\n",
        "\n",
        "    return score, p, r\n",
        "\n"
      ],
      "execution_count": 8,
      "outputs": []
    },
    {
      "cell_type": "code",
      "metadata": {
        "id": "vAHmVdP2Mw-O"
      },
      "source": [
        "# input files\n",
        "# [ train_file ] is a training dataset that contains 266K samples.\n",
        "# [ test_file ] is a testing dataset that contains 200K samples. You can test your model based on this file.\n",
        "# [ predict_file ] is a predicting dataset that contains 201K samples. Each sample in this file does not have occupation labels.\n",
        "\n",
        "train_file = 'wiki-train.json.gz'\n",
        "test_file = 'wiki-dev.json.gz'\n",
        "predict_file = 'wiki-test.json.gz'\n",
        "\n",
        "# output files\n",
        "# [ vocab_file ] has a word vocabulary that defines which words participate in this task.\n",
        "# The default vocabulary is generated by our methods from training dataset,\n",
        "# but you can create it in a way you like.\n",
        "# [ model_file ] is used for store your trained model\n",
        "# [ result_file ] is file that stores your predicted occupations.\n",
        "# (This is the file you have to submit, once you ran on the test dataset)\n",
        "\n",
        "vocab_file = 'vocab.txt'\n"
      ],
      "execution_count": 11,
      "outputs": []
    },
    {
      "cell_type": "code",
      "metadata": {
        "id": "tGTP-D77rAaV"
      },
      "source": [
        "model_file = 'model_Saad_Lahlali.h5'\n",
        "result_file = 'result_Saad_Lahlali.json'\n",
        "\n",
        "embedding_dimension = 300\n",
        "maximal_sentence_length = 100\n",
        "number_of_labels = 20\n",
        "epochs = 8\n",
        "batch_size = 32"
      ],
      "execution_count": null,
      "outputs": []
    },
    {
      "cell_type": "markdown",
      "metadata": {
        "id": "wfInxTZ_Z5_0"
      },
      "source": [
        "# Pre-trained Glove"
      ]
    },
    {
      "cell_type": "markdown",
      "metadata": {
        "id": "Ki-e4t3qFdNd"
      },
      "source": [
        "## Downloading the pretrained Glove"
      ]
    },
    {
      "cell_type": "code",
      "metadata": {
        "id": "jpUtFB4zha7k"
      },
      "source": [
        "'''\n",
        "!wget http://nlp.stanford.edu/data/glove.6B.zip\n",
        "!unzip -q glove.6B.zip\n",
        "data_path = tf.keras.utils.get_file(\n",
        "    \"news20.tar.gz\",\n",
        "    \"http://www.cs.cmu.edu/afs/cs.cmu.edu/project/theo-20/www/data/news20.tar.gz\",\n",
        "    untar=True,\n",
        ")\n",
        "'''"
      ],
      "execution_count": null,
      "outputs": []
    },
    {
      "cell_type": "markdown",
      "metadata": {
        "id": "cBZnPp93Fsra"
      },
      "source": [
        "## Embedding "
      ]
    },
    {
      "cell_type": "code",
      "metadata": {
        "colab": {
          "base_uri": "https://localhost:8080/"
        },
        "id": "vj0-GKYcgiSv",
        "outputId": "67c7f9ee-eea7-4f8c-dfc2-b1e175347550"
      },
      "source": [
        "path_to_glove_file = \"./glove.6B.\"+str(embedding_dimension)+\"d.txt\"\n",
        "\n",
        "embeddings_index = {}\n",
        "with open(path_to_glove_file) as f:\n",
        "    for line in f:\n",
        "        word, coefs = line.split(maxsplit=1)\n",
        "        coefs = np.fromstring(coefs, \"f\", sep=\" \")\n",
        "        embeddings_index[word] = coefs\n",
        "\n",
        "print(\"Found %s word vectors.\" % len(embeddings_index))"
      ],
      "execution_count": null,
      "outputs": [
        {
          "name": "stdout",
          "output_type": "stream",
          "text": [
            "Found 400000 word vectors.\n"
          ]
        }
      ]
    },
    {
      "cell_type": "code",
      "metadata": {
        "colab": {
          "base_uri": "https://localhost:8080/"
        },
        "id": "3VRVZ3kqgkKP",
        "outputId": "f8b85c7e-4ead-4ad6-8109-f831c1f9b00e"
      },
      "source": [
        "vocab_to_id = load_vocabulary(vocab_file)\n",
        "num_tokens = len(vocab_to_id)\n",
        "word_index = dict(zip(vocab_to_id, range(len(vocab_to_id))))\n",
        "embedding_dim = embedding_dimension\n",
        "hits = 0\n",
        "misses = 0\n",
        "\n",
        "# Prepare embedding matrix\n",
        "embedding_matrix = np.zeros((num_tokens, embedding_dim))\n",
        "for word, i in word_index.items():\n",
        "    embedding_vector = embeddings_index.get(word)\n",
        "    if embedding_vector is not None:\n",
        "        # Words not found in embedding index will be all-zeros.\n",
        "        # This includes the representation for \"padding\" and \"OOV\"\n",
        "        embedding_matrix[i] = embedding_vector\n",
        "        hits += 1\n",
        "    else:\n",
        "        misses += 1\n",
        "print(\"Converted %d words (%d misses)\" % (hits, misses))"
      ],
      "execution_count": null,
      "outputs": [
        {
          "name": "stdout",
          "output_type": "stream",
          "text": [
            "Converted 164797 words (179382 misses)\n"
          ]
        }
      ]
    },
    {
      "cell_type": "code",
      "metadata": {
        "id": "LjQ5vv-pgosT"
      },
      "source": [
        "from tensorflow.keras.layers import Embedding\n",
        "\n",
        "embedding_layer = Embedding(\n",
        "    num_tokens,\n",
        "    embedding_dim,\n",
        "    embeddings_initializer=tf.keras.initializers.Constant(embedding_matrix),\n",
        "    trainable=False,\n",
        ")"
      ],
      "execution_count": null,
      "outputs": []
    },
    {
      "cell_type": "markdown",
      "metadata": {
        "id": "tRZ9YPDvjo1Z"
      },
      "source": [
        "# Text Classification"
      ]
    },
    {
      "cell_type": "markdown",
      "metadata": {
        "id": "7ADHi11kghRn"
      },
      "source": [
        "## Preparing the Network"
      ]
    },
    {
      "cell_type": "code",
      "metadata": {
        "id": "4OdiRiXBg3Y8"
      },
      "source": [
        "# Number of units in each network\n",
        "LAYERS = [ 164, 164, 128, 128, 64, 64, 32, 32]\n",
        "LAYERS1 = [ 164, 128, 64, 32]"
      ],
      "execution_count": 12,
      "outputs": []
    },
    {
      "cell_type": "code",
      "metadata": {
        "id": "NZ1uAJ1HYDp8"
      },
      "source": [
        "def create_model_2(vocab):\n",
        "    '''\n",
        "    :param vocab: a vocabulary dictionary which looks like {'python':0, 'java':1 ......}\n",
        "    :return:\n",
        "    '''\n",
        "    # First Input Network\n",
        "    input1 = Input(shape=(maximal_sentence_length,))\n",
        "    embeddding1 = embedding_layer(input1)\n",
        "    x1 = GlobalAveragePooling1D()(embeddding1)\n",
        "    for layer in LAYERS:\n",
        "      x1 = Dense(layer, activation='relu')(x1)\n",
        "      x1 = layers.BatchNormalization()(x1)\n",
        "      x1 = Dropout(0.2)(x1)\n",
        "\n",
        "    # Second Input Network\n",
        "    input2 = Input(shape=(maximal_sentence_length,))\n",
        "    embeddding2 = Embedding(len(vocab), embedding_dimension, input_length=maximal_sentence_length)(input2)\n",
        "    x2 = GlobalAveragePooling1D()(embeddding2)\n",
        "    for layer in LAYERS:\n",
        "      x2 = Dense(layer, activation='relu')(x2)\n",
        "      x2 = layers.BatchNormalization()(x2)\n",
        "      x2 = Dropout(0.2)(x2)\n",
        "\n",
        "    # Third Input Network\n",
        "    input3 = Input(shape=(maximal_sentence_length,))\n",
        "    embeddding3 = Embedding(len(vocab), embedding_dimension, input_length=maximal_sentence_length)(input3)\n",
        "    x3 = GlobalAveragePooling1D()(embeddding3)\n",
        "    for layer in LAYERS1:\n",
        "      x3 = Dense(layer, activation='relu')(x3)\n",
        "      x3 = layers.BatchNormalization()(x3)\n",
        "      x3 = Dropout(0.2)(x3)\n",
        "\n",
        "    # Merging all three Networks\n",
        "    merged = tf.concat([x1, x2, x3], axis=1)\n",
        "\n",
        "    \n",
        "    merged = Dense(64, activation='relu')(merged)\n",
        "    output = Dense(number_of_labels, activation='sigmoid')(merged)\n",
        "\n",
        "\n",
        "    model = Model(inputs=[input1, input2, input3] , outputs=output)\n",
        "    \n",
        "\n",
        "    model.compile(loss='binary_crossentropy', optimizer='adam', metrics=['binary_accuracy'])\n",
        "\n",
        "    return model"
      ],
      "execution_count": 13,
      "outputs": []
    },
    {
      "cell_type": "code",
      "metadata": {
        "id": "w8MDS2J0ZLfe"
      },
      "source": [
        "\n",
        "def train(debug):\n",
        "    '''\n",
        "    train your model.\n",
        "    :param debug:whether to use a small fraction of samples\n",
        "    :return:\n",
        "    '''\n",
        "\n",
        "    # prepare data\n",
        "    vocab_to_id = load_vocabulary(vocab_file)\n",
        "    data_x, data_y = read_dataset(train_file, vocab_to_id, maximal_sentence_length, debug=debug)\n",
        "\n",
        "    # create a model\n",
        "    model = create_model_2(vocab_to_id)\n",
        "    model.summary()\n",
        "\n",
        "    # train\n",
        "    print('start to train, data size = {a}'.format(a=len(data_x)))\n",
        "    model.fit([data_x, data_x, data_x], data_y, validation_split=0.10, epochs=epochs, batch_size=batch_size)\n",
        "\n",
        "    # save model\n",
        "    model.save(model_file)\n",
        "\n",
        "\n",
        "def evaluate_on_dev(debug):\n",
        "    '''\n",
        "    evaluare your model on the development dataset.\n",
        "\n",
        "    :param debug:whether to use a small fraction of samples\n",
        "    :return:\n",
        "    '''\n",
        "\n",
        "    # prepare data\n",
        "    vocab_to_id = load_vocabulary(vocab_file)\n",
        "    data_x, data_y = read_dataset(test_file, vocab_to_id, maximal_sentence_length, debug=debug)\n",
        "    raw_samples = list(load_data(test_file))\n",
        "    print('start to do validation, data size = {a}'.format(a=len(data_x)))\n",
        "    _, id_to_labels = get_label()\n",
        "    pred_labels, true_labels = list(), list()\n",
        "\n",
        "    # load model\n",
        "    model = load_model(model_file)\n",
        "\n",
        "    # predict each sample\n",
        "    for summary, label, raw in zip(data_x, data_y, raw_samples):\n",
        "        result = model.predict([np.array([summary]), np.array([summary]), np.array([summary])])[0]\n",
        "        pred = set([id_to_labels[i] for i, prob in enumerate(result) if prob > theta])\n",
        "        true = set([id_to_labels[index] for index, e in enumerate(label) if e == 1])\n",
        "        pred_labels.append(pred)\n",
        "        true_labels.append(true)\n",
        "\n",
        "        # print wrong prediction\n",
        "        print('Title:' + raw.title)\n",
        "        wrong_occupations = pred - true\n",
        "        if len(wrong_occupations) > 0:\n",
        "            print('[ wrong prediction ] this person does not have the occupations:{a}'.format(a=wrong_occupations))\n",
        "        missing_occupations = true - pred\n",
        "        if len(missing_occupations) > 0:\n",
        "            print('[ missing prediction ] your prediction miss the occupations:{b}'.format(b=missing_occupations))\n",
        "        print('---------------------------')\n",
        "\n",
        "    # calculate metrics\n",
        "    f1, precision, recall = f1_score(true_labels, pred_labels)\n",
        "    print('result on validation set, f1 : {a}, precision : {b}, recall : {c}.'.\n",
        "          format(a=f1, b=precision, c=recall))\n",
        "\n",
        "def predict_on_test(debug, theta):\n",
        "    '''\n",
        "    :param debug: whether to use a small fraction of samples\n",
        "    :return:\n",
        "    '''\n",
        "\n",
        "    # prepare data\n",
        "    _, id_to_labels = get_label()\n",
        "    vocab_to_id = load_vocabulary(vocab_file)\n",
        "    model = load_model(model_file)\n",
        "    datax, _, = read_dataset(predict_file, vocab_to_id, maximal_sentence_length, debug)\n",
        "    raw_samples = list(load_data(predict_file))\n",
        "\n",
        "    # predict\n",
        "    r_f = open(result_file, 'w', encoding='utf8')\n",
        "    for data, raw_sample in tqdm(zip(datax, raw_samples)):\n",
        "        result = model.predict([np.array([data]), np.array([data]), np.array([data])])[0]\n",
        "        pred = [id_to_labels[i] for i, prob in enumerate(result) if prob > theta]\n",
        "        r_f.write(json.dumps({\n",
        "                            'title': raw_sample.title,\n",
        "                            'occupations': pred\n",
        "                        }) + \"\\n\")\n",
        "\n",
        "# create a vocabulary file if does not exist\n",
        "if not os.path.exists(vocab_file):\n",
        "    gen_vocabulary(train_file, vocab_file)\n",
        "\n"
      ],
      "execution_count": 14,
      "outputs": []
    },
    {
      "cell_type": "markdown",
      "metadata": {
        "id": "QrwXBkldge-v"
      },
      "source": [
        "## Training the Network"
      ]
    },
    {
      "cell_type": "code",
      "metadata": {
        "id": "z1DV5YErKzD5"
      },
      "source": [
        "train(debug=False)"
      ],
      "execution_count": null,
      "outputs": []
    },
    {
      "cell_type": "code",
      "metadata": {
        "colab": {
          "base_uri": "https://localhost:8080/"
        },
        "id": "nAR4ljHZzUqY",
        "outputId": "edbbd21c-7731-4acd-97af-02217f3387be"
      },
      "source": [
        "model.summary()"
      ],
      "execution_count": 13,
      "outputs": [
        {
          "output_type": "stream",
          "name": "stdout",
          "text": [
            "Model: \"model\"\n",
            "__________________________________________________________________________________________________\n",
            "Layer (type)                    Output Shape         Param #     Connected to                     \n",
            "==================================================================================================\n",
            "input_1 (InputLayer)            [(None, 100)]        0                                            \n",
            "__________________________________________________________________________________________________\n",
            "input_2 (InputLayer)            [(None, 100)]        0                                            \n",
            "__________________________________________________________________________________________________\n",
            "embedding (Embedding)           (None, 100, 300)     103253700   input_1[0][0]                    \n",
            "__________________________________________________________________________________________________\n",
            "embedding_1 (Embedding)         (None, 100, 300)     103253700   input_2[0][0]                    \n",
            "__________________________________________________________________________________________________\n",
            "global_average_pooling1d (Globa (None, 300)          0           embedding[0][0]                  \n",
            "__________________________________________________________________________________________________\n",
            "global_average_pooling1d_1 (Glo (None, 300)          0           embedding_1[0][0]                \n",
            "__________________________________________________________________________________________________\n",
            "dense (Dense)                   (None, 164)          49364       global_average_pooling1d[0][0]   \n",
            "__________________________________________________________________________________________________\n",
            "dense_8 (Dense)                 (None, 164)          49364       global_average_pooling1d_1[0][0] \n",
            "__________________________________________________________________________________________________\n",
            "batch_normalization (BatchNorma (None, 164)          656         dense[0][0]                      \n",
            "__________________________________________________________________________________________________\n",
            "batch_normalization_8 (BatchNor (None, 164)          656         dense_8[0][0]                    \n",
            "__________________________________________________________________________________________________\n",
            "dropout (Dropout)               (None, 164)          0           batch_normalization[0][0]        \n",
            "__________________________________________________________________________________________________\n",
            "dropout_8 (Dropout)             (None, 164)          0           batch_normalization_8[0][0]      \n",
            "__________________________________________________________________________________________________\n",
            "dense_1 (Dense)                 (None, 164)          27060       dropout[0][0]                    \n",
            "__________________________________________________________________________________________________\n",
            "dense_9 (Dense)                 (None, 164)          27060       dropout_8[0][0]                  \n",
            "__________________________________________________________________________________________________\n",
            "batch_normalization_1 (BatchNor (None, 164)          656         dense_1[0][0]                    \n",
            "__________________________________________________________________________________________________\n",
            "batch_normalization_9 (BatchNor (None, 164)          656         dense_9[0][0]                    \n",
            "__________________________________________________________________________________________________\n",
            "dropout_1 (Dropout)             (None, 164)          0           batch_normalization_1[0][0]      \n",
            "__________________________________________________________________________________________________\n",
            "dropout_9 (Dropout)             (None, 164)          0           batch_normalization_9[0][0]      \n",
            "__________________________________________________________________________________________________\n",
            "dense_2 (Dense)                 (None, 128)          21120       dropout_1[0][0]                  \n",
            "__________________________________________________________________________________________________\n",
            "dense_10 (Dense)                (None, 128)          21120       dropout_9[0][0]                  \n",
            "__________________________________________________________________________________________________\n",
            "batch_normalization_2 (BatchNor (None, 128)          512         dense_2[0][0]                    \n",
            "__________________________________________________________________________________________________\n",
            "batch_normalization_10 (BatchNo (None, 128)          512         dense_10[0][0]                   \n",
            "__________________________________________________________________________________________________\n",
            "dropout_2 (Dropout)             (None, 128)          0           batch_normalization_2[0][0]      \n",
            "__________________________________________________________________________________________________\n",
            "dropout_10 (Dropout)            (None, 128)          0           batch_normalization_10[0][0]     \n",
            "__________________________________________________________________________________________________\n",
            "dense_3 (Dense)                 (None, 128)          16512       dropout_2[0][0]                  \n",
            "__________________________________________________________________________________________________\n",
            "dense_11 (Dense)                (None, 128)          16512       dropout_10[0][0]                 \n",
            "__________________________________________________________________________________________________\n",
            "input_3 (InputLayer)            [(None, 100)]        0                                            \n",
            "__________________________________________________________________________________________________\n",
            "batch_normalization_3 (BatchNor (None, 128)          512         dense_3[0][0]                    \n",
            "__________________________________________________________________________________________________\n",
            "batch_normalization_11 (BatchNo (None, 128)          512         dense_11[0][0]                   \n",
            "__________________________________________________________________________________________________\n",
            "embedding_2 (Embedding)         (None, 100, 300)     103253700   input_3[0][0]                    \n",
            "__________________________________________________________________________________________________\n",
            "dropout_3 (Dropout)             (None, 128)          0           batch_normalization_3[0][0]      \n",
            "__________________________________________________________________________________________________\n",
            "dropout_11 (Dropout)            (None, 128)          0           batch_normalization_11[0][0]     \n",
            "__________________________________________________________________________________________________\n",
            "global_average_pooling1d_2 (Glo (None, 300)          0           embedding_2[0][0]                \n",
            "__________________________________________________________________________________________________\n",
            "dense_4 (Dense)                 (None, 64)           8256        dropout_3[0][0]                  \n",
            "__________________________________________________________________________________________________\n",
            "dense_12 (Dense)                (None, 64)           8256        dropout_11[0][0]                 \n",
            "__________________________________________________________________________________________________\n",
            "dense_16 (Dense)                (None, 164)          49364       global_average_pooling1d_2[0][0] \n",
            "__________________________________________________________________________________________________\n",
            "batch_normalization_4 (BatchNor (None, 64)           256         dense_4[0][0]                    \n",
            "__________________________________________________________________________________________________\n",
            "batch_normalization_12 (BatchNo (None, 64)           256         dense_12[0][0]                   \n",
            "__________________________________________________________________________________________________\n",
            "batch_normalization_16 (BatchNo (None, 164)          656         dense_16[0][0]                   \n",
            "__________________________________________________________________________________________________\n",
            "dropout_4 (Dropout)             (None, 64)           0           batch_normalization_4[0][0]      \n",
            "__________________________________________________________________________________________________\n",
            "dropout_12 (Dropout)            (None, 64)           0           batch_normalization_12[0][0]     \n",
            "__________________________________________________________________________________________________\n",
            "dropout_16 (Dropout)            (None, 164)          0           batch_normalization_16[0][0]     \n",
            "__________________________________________________________________________________________________\n",
            "dense_5 (Dense)                 (None, 64)           4160        dropout_4[0][0]                  \n",
            "__________________________________________________________________________________________________\n",
            "dense_13 (Dense)                (None, 64)           4160        dropout_12[0][0]                 \n",
            "__________________________________________________________________________________________________\n",
            "dense_17 (Dense)                (None, 128)          21120       dropout_16[0][0]                 \n",
            "__________________________________________________________________________________________________\n",
            "batch_normalization_5 (BatchNor (None, 64)           256         dense_5[0][0]                    \n",
            "__________________________________________________________________________________________________\n",
            "batch_normalization_13 (BatchNo (None, 64)           256         dense_13[0][0]                   \n",
            "__________________________________________________________________________________________________\n",
            "batch_normalization_17 (BatchNo (None, 128)          512         dense_17[0][0]                   \n",
            "__________________________________________________________________________________________________\n",
            "dropout_5 (Dropout)             (None, 64)           0           batch_normalization_5[0][0]      \n",
            "__________________________________________________________________________________________________\n",
            "dropout_13 (Dropout)            (None, 64)           0           batch_normalization_13[0][0]     \n",
            "__________________________________________________________________________________________________\n",
            "dropout_17 (Dropout)            (None, 128)          0           batch_normalization_17[0][0]     \n",
            "__________________________________________________________________________________________________\n",
            "dense_6 (Dense)                 (None, 32)           2080        dropout_5[0][0]                  \n",
            "__________________________________________________________________________________________________\n",
            "dense_14 (Dense)                (None, 32)           2080        dropout_13[0][0]                 \n",
            "__________________________________________________________________________________________________\n",
            "dense_18 (Dense)                (None, 64)           8256        dropout_17[0][0]                 \n",
            "__________________________________________________________________________________________________\n",
            "batch_normalization_6 (BatchNor (None, 32)           128         dense_6[0][0]                    \n",
            "__________________________________________________________________________________________________\n",
            "batch_normalization_14 (BatchNo (None, 32)           128         dense_14[0][0]                   \n",
            "__________________________________________________________________________________________________\n",
            "batch_normalization_18 (BatchNo (None, 64)           256         dense_18[0][0]                   \n",
            "__________________________________________________________________________________________________\n",
            "dropout_6 (Dropout)             (None, 32)           0           batch_normalization_6[0][0]      \n",
            "__________________________________________________________________________________________________\n",
            "dropout_14 (Dropout)            (None, 32)           0           batch_normalization_14[0][0]     \n",
            "__________________________________________________________________________________________________\n",
            "dropout_18 (Dropout)            (None, 64)           0           batch_normalization_18[0][0]     \n",
            "__________________________________________________________________________________________________\n",
            "dense_7 (Dense)                 (None, 32)           1056        dropout_6[0][0]                  \n",
            "__________________________________________________________________________________________________\n",
            "dense_15 (Dense)                (None, 32)           1056        dropout_14[0][0]                 \n",
            "__________________________________________________________________________________________________\n",
            "dense_19 (Dense)                (None, 32)           2080        dropout_18[0][0]                 \n",
            "__________________________________________________________________________________________________\n",
            "batch_normalization_7 (BatchNor (None, 32)           128         dense_7[0][0]                    \n",
            "__________________________________________________________________________________________________\n",
            "batch_normalization_15 (BatchNo (None, 32)           128         dense_15[0][0]                   \n",
            "__________________________________________________________________________________________________\n",
            "batch_normalization_19 (BatchNo (None, 32)           128         dense_19[0][0]                   \n",
            "__________________________________________________________________________________________________\n",
            "dropout_7 (Dropout)             (None, 32)           0           batch_normalization_7[0][0]      \n",
            "__________________________________________________________________________________________________\n",
            "dropout_15 (Dropout)            (None, 32)           0           batch_normalization_15[0][0]     \n",
            "__________________________________________________________________________________________________\n",
            "dropout_19 (Dropout)            (None, 32)           0           batch_normalization_19[0][0]     \n",
            "__________________________________________________________________________________________________\n",
            "tf.concat (TFOpLambda)          (None, 96)           0           dropout_7[0][0]                  \n",
            "                                                                 dropout_15[0][0]                 \n",
            "                                                                 dropout_19[0][0]                 \n",
            "__________________________________________________________________________________________________\n",
            "dense_20 (Dense)                (None, 64)           6208        tf.concat[0][0]                  \n",
            "__________________________________________________________________________________________________\n",
            "dense_21 (Dense)                (None, 20)           1300        dense_20[0][0]                   \n",
            "==================================================================================================\n",
            "Total params: 310,116,404\n",
            "Trainable params: 206,858,824\n",
            "Non-trainable params: 103,257,580\n",
            "__________________________________________________________________________________________________\n"
          ]
        }
      ]
    },
    {
      "cell_type": "markdown",
      "metadata": {
        "id": "UJoHPvLZSXZM"
      },
      "source": [
        "## Evaluating the Network and finding the optimal theta"
      ]
    },
    {
      "cell_type": "code",
      "metadata": {
        "colab": {
          "base_uri": "https://localhost:8080/"
        },
        "id": "UHzhQOLUSWU2",
        "outputId": "69469041-2ebf-4b63-9112-8e0b36e09df6"
      },
      "source": [
        "vocab_to_id = load_vocabulary(vocab_file)\n",
        "data_x, data_y = read_dataset(test_file, vocab_to_id, maximal_sentence_length, debug=False)\n",
        "raw_samples = list(load_data(test_file))\n",
        "print('start to do validation, data size = {a}'.format(a=len(data_x)))\n",
        "_, id_to_labels = get_label()\n",
        "pred_labels, true_labels = list(), list()\n",
        "\n",
        "# load model\n",
        "model = load_model(model_file)\n"
      ],
      "execution_count": 15,
      "outputs": [
        {
          "output_type": "stream",
          "name": "stderr",
          "text": [
            "200000it [01:31, 2175.20it/s]\n"
          ]
        },
        {
          "output_type": "stream",
          "name": "stdout",
          "text": [
            "start to do validation, data size = 200000\n"
          ]
        }
      ]
    },
    {
      "cell_type": "code",
      "metadata": {
        "id": "FAs4V0zPUFqw"
      },
      "source": [
        "result = []\n",
        "for summary in data_x: \n",
        "  result.append(model.predict([np.array([summary]), np.array([summary]), np.array([summary])])[0])"
      ],
      "execution_count": 16,
      "outputs": []
    },
    {
      "cell_type": "code",
      "metadata": {
        "colab": {
          "base_uri": "https://localhost:8080/"
        },
        "id": "BLy9l17rblMD",
        "outputId": "6977320a-46ac-4f74-e503-6f2610764ef1"
      },
      "source": [
        "lst = []\n",
        "X = [0.10+0.01*i for i in range(71)]  \n",
        "\n",
        "print('theta  |   f1  |precision|recall')\n",
        "print('=======|=======|=========|=======')\n",
        "   \n",
        "for theta in X :   \n",
        "  pred_labels, true_labels=[], []\n",
        "  for res, label, raw in zip(result, data_y, raw_samples):\n",
        "\n",
        "      pred = set([id_to_labels[i] for i, prob in enumerate(res) if prob > theta])\n",
        "      true = set([id_to_labels[index] for index, e in enumerate(label) if e == 1])\n",
        "      pred_labels.append(pred)\n",
        "      true_labels.append(true)\n",
        "\n",
        "  f1, precision, recall = f1_score(true_labels, pred_labels)\n",
        "\n",
        "  lst.append([f1, precision, recall])\n",
        "\n",
        "  print('  '+str(round(theta, 2))+' |'+str(round(f1, 6))+'|'+str(round(precision, 7))+'|'+str(round(recall, 5)))\n",
        "  print('=======|=======|=========|=======|')\n",
        "  "
      ],
      "execution_count": 17,
      "outputs": [
        {
          "output_type": "stream",
          "name": "stdout",
          "text": [
            "theta  |   f1  |precision|recall\n",
            "=======|=======|=========|=======\n",
            "  0.1 |0.736157|0.6400671|0.86619\n",
            "=======|=======|=========|=======|\n",
            "  0.11 |0.741133|0.6496142|0.86267\n",
            "=======|=======|=========|=======|\n",
            "  0.12 |0.745516|0.6582397|0.85948\n",
            "=======|=======|=========|=======|\n",
            "  0.13 |0.74915|0.6658927|0.8562\n",
            "=======|=======|=========|=======|\n",
            "  0.14 |0.752533|0.6730987|0.85322\n",
            "=======|=======|=========|=======|\n",
            "  0.15 |0.755882|0.6800948|0.85068\n",
            "=======|=======|=========|=======|\n",
            "  0.16 |0.758642|0.6863233|0.848\n",
            "=======|=======|=========|=======|\n",
            "  0.17 |0.761196|0.692321|0.84529\n",
            "=======|=======|=========|=======|\n",
            "  0.18 |0.763418|0.6976727|0.84284\n",
            "=======|=======|=========|=======|\n",
            "  0.19 |0.76562|0.703111|0.84033\n",
            "=======|=======|=========|=======|\n",
            "  0.2 |0.767527|0.7080677|0.83789\n",
            "=======|=======|=========|=======|\n",
            "  0.21 |0.769384|0.7128353|0.83568\n",
            "=======|=======|=========|=======|\n",
            "  0.22 |0.77104|0.7173879|0.83337\n",
            "=======|=======|=========|=======|\n",
            "  0.23 |0.772547|0.7216419|0.83118\n",
            "=======|=======|=========|=======|\n",
            "  0.24 |0.774158|0.7259939|0.82917\n",
            "=======|=======|=========|=======|\n",
            "  0.25 |0.775521|0.7300195|0.82707\n",
            "=======|=======|=========|=======|\n",
            "  0.26 |0.776723|0.7338252|0.82495\n",
            "=======|=======|=========|=======|\n",
            "  0.27 |0.777973|0.7376039|0.82302\n",
            "=======|=======|=========|=======|\n",
            "  0.28 |0.779145|0.7413691|0.82098\n",
            "=======|=======|=========|=======|\n",
            "  0.29 |0.780377|0.7451658|0.81908\n",
            "=======|=======|=========|=======|\n",
            "  0.3 |0.781389|0.7485741|0.81721\n",
            "=======|=======|=========|=======|\n",
            "  0.31 |0.782284|0.7518478|0.81529\n",
            "=======|=======|=========|=======|\n",
            "  0.32 |0.783204|0.7550934|0.81349\n",
            "=======|=======|=========|=======|\n",
            "  0.33 |0.783992|0.7581083|0.8117\n",
            "=======|=======|=========|=======|\n",
            "  0.34 |0.78477|0.7611554|0.8099\n",
            "=======|=======|=========|=======|\n",
            "  0.35 |0.785496|0.7640254|0.80821\n",
            "=======|=======|=========|=======|\n",
            "  0.36 |0.786169|0.7669219|0.80641\n",
            "=======|=======|=========|=======|\n",
            "  0.37 |0.786842|0.7697168|0.80475\n",
            "=======|=======|=========|=======|\n",
            "  0.38 |0.787416|0.772441|0.80298\n",
            "=======|=======|=========|=======|\n",
            "  0.39 |0.787916|0.7751494|0.80111\n",
            "=======|=======|=========|=======|\n",
            "  0.4 |0.788449|0.7777868|0.79941\n",
            "=======|=======|=========|=======|\n",
            "  0.41 |0.788927|0.7804183|0.79762\n",
            "=======|=======|=========|=======|\n",
            "  0.42 |0.789417|0.7830024|0.79594\n",
            "=======|=======|=========|=======|\n",
            "  0.43 |0.789762|0.785445|0.79413\n",
            "=======|=======|=========|=======|\n",
            "  0.44 |0.790129|0.7878724|0.7924\n",
            "=======|=======|=========|=======|\n",
            "  0.45 |0.790587|0.790461|0.79071\n",
            "=======|=======|=========|=======|\n",
            "  0.46 |0.790684|0.7925992|0.78878\n",
            "=======|=======|=========|=======|\n",
            "  0.47 |0.791085|0.7951218|0.78709\n",
            "=======|=======|=========|=======|\n",
            "  0.48 |0.791386|0.7974025|0.78546\n",
            "=======|=======|=========|=======|\n",
            "  0.49 |0.791765|0.7998892|0.7838\n",
            "=======|=======|=========|=======|\n",
            "  0.5 |0.791857|0.8020117|0.78196\n",
            "=======|=======|=========|=======|\n",
            "  0.51 |0.792086|0.8041534|0.78038\n",
            "=======|=======|=========|=======|\n",
            "  0.52 |0.792334|0.8064671|0.77869\n",
            "=======|=======|=========|=======|\n",
            "  0.53 |0.79255|0.8087795|0.77696\n",
            "=======|=======|=========|=======|\n",
            "  0.54 |0.792715|0.8109986|0.77524\n",
            "=======|=======|=========|=======|\n",
            "  0.55 |0.792802|0.8131481|0.77345\n",
            "=======|=======|=========|=======|\n",
            "  0.56 |0.79281|0.8151856|0.77163\n",
            "=======|=======|=========|=======|\n",
            "  0.57 |0.792818|0.8173526|0.76971\n",
            "=======|=======|=========|=======|\n",
            "  0.58 |0.792819|0.8194112|0.7679\n",
            "=======|=======|=========|=======|\n",
            "  0.59 |0.792793|0.8215302|0.766\n",
            "=======|=======|=========|=======|\n",
            "  0.6 |0.792744|0.8236577|0.76407\n",
            "=======|=======|=========|=======|\n",
            "  0.61 |0.792662|0.8256897|0.76217\n",
            "=======|=======|=========|=======|\n",
            "  0.62 |0.792528|0.8277298|0.7602\n",
            "=======|=======|=========|=======|\n",
            "  0.63 |0.792346|0.8296668|0.75824\n",
            "=======|=======|=========|=======|\n",
            "  0.64 |0.792232|0.8318172|0.75624\n",
            "=======|=======|=========|=======|\n",
            "  0.65 |0.791999|0.8339049|0.7541\n",
            "=======|=======|=========|=======|\n",
            "  0.66 |0.791934|0.8361153|0.75219\n",
            "=======|=======|=========|=======|\n",
            "  0.67 |0.791852|0.8384617|0.75015\n",
            "=======|=======|=========|=======|\n",
            "  0.68 |0.79153|0.8404433|0.748\n",
            "=======|=======|=========|=======|\n",
            "  0.69 |0.791225|0.8424346|0.74588\n",
            "=======|=======|=========|=======|\n",
            "  0.7 |0.790948|0.8446366|0.74368\n",
            "=======|=======|=========|=======|\n",
            "  0.71 |0.790618|0.8469002|0.74135\n",
            "=======|=======|=========|=======|\n",
            "  0.72 |0.790118|0.8490766|0.73882\n",
            "=======|=======|=========|=======|\n",
            "  0.73 |0.789634|0.8512424|0.73634\n",
            "=======|=======|=========|=======|\n",
            "  0.74 |0.789103|0.8535422|0.73371\n",
            "=======|=======|=========|=======|\n",
            "  0.75 |0.788619|0.8558234|0.7312\n",
            "=======|=======|=========|=======|\n",
            "  0.76 |0.787834|0.8580425|0.72825\n",
            "=======|=======|=========|=======|\n",
            "  0.77 |0.787353|0.8605729|0.72562\n",
            "=======|=======|=========|=======|\n",
            "  0.78 |0.786598|0.8630697|0.72257\n",
            "=======|=======|=========|=======|\n",
            "  0.79 |0.785858|0.865641|0.71954\n",
            "=======|=======|=========|=======|\n",
            "  0.8 |0.784943|0.8681253|0.71631\n",
            "=======|=======|=========|=======|\n"
          ]
        }
      ]
    },
    {
      "cell_type": "code",
      "metadata": {
        "id": "poEXvOUQJIQn",
        "colab": {
          "base_uri": "https://localhost:8080/",
          "height": 611
        },
        "outputId": "1f3231b7-e535-4c7f-fdfb-b94c4b05e8fb"
      },
      "source": [
        "plt.figure(figsize=(20,10))\n",
        "\n",
        "plt.plot(X, [lst[i][0] for i in range(len(X))], marker='o')\n",
        "\n",
        "plt.xlabel('theta', fontsize=15)\n",
        "plt.ylabel('F1 Score', fontsize=15)\n",
        "plt.grid()\n",
        "\n",
        "plt.show()"
      ],
      "execution_count": 18,
      "outputs": [
        {
          "output_type": "display_data",
          "data": {
            "image/png": "[encoded data removed]",
            "text/plain": [
              "<Figure size 1440x720 with 1 Axes>"
            ]
          },
          "metadata": {
            "needs_background": "light"
          }
        }
      ]
    },
    {
      "cell_type": "code",
      "metadata": {
        "id": "ztFyIEG-JzHC",
        "colab": {
          "base_uri": "https://localhost:8080/",
          "height": 611
        },
        "outputId": "e5d9716d-14a9-48bf-e570-12ff1072ea33"
      },
      "source": [
        "plt.figure(figsize=(20,10))\n",
        "\n",
        "plt.plot(X, [lst[i][1] for i in range(len(X))], marker='o')\n",
        "\n",
        "plt.xlabel('theta', fontsize=15)\n",
        "plt.ylabel('Precision', fontsize=15)\n",
        "plt.grid()\n",
        "\n",
        "plt.show()"
      ],
      "execution_count": 19,
      "outputs": [
        {
          "output_type": "display_data",
          "data": {
            "image/png": "[encoded data removed]",
            "text/plain": [
              "<Figure size 1440x720 with 1 Axes>"
            ]
          },
          "metadata": {
            "needs_background": "light"
          }
        }
      ]
    },
    {
      "cell_type": "code",
      "metadata": {
        "id": "NCVuq8POJ1tH",
        "colab": {
          "base_uri": "https://localhost:8080/",
          "height": 611
        },
        "outputId": "d5bd49cc-db23-466f-b72b-495de0f085d8"
      },
      "source": [
        "plt.figure(figsize=(20,10))\n",
        "\n",
        "plt.plot(X, [lst[i][2] for i in range(len(X))], marker='o')\n",
        "\n",
        "plt.xlabel('theta', fontsize=15)\n",
        "plt.ylabel('Recall', fontsize=15)\n",
        "plt.grid()\n",
        "\n",
        "plt.show()"
      ],
      "execution_count": 20,
      "outputs": [
        {
          "output_type": "display_data",
          "data": {
            "image/png": "[encoded data removed]",
            "text/plain": [
              "<Figure size 1440x720 with 1 Axes>"
            ]
          },
          "metadata": {
            "needs_background": "light"
          }
        }
      ]
    },
    {
      "cell_type": "code",
      "metadata": {
        "colab": {
          "base_uri": "https://localhost:8080/"
        },
        "id": "bXLgmm40cs7m",
        "outputId": "cfa5f7e4-19b1-404a-9333-cc8da4a76d18"
      },
      "source": [
        "theta_opti, f1_opti, precision_opti, recall_opti = 0, 0, 0, 0\n",
        "for i in range (len(lst)):\n",
        "  if f1_opti < lst[i][0] :\n",
        "    theta_opti, f1_opti, precision_opti, recall_opti = 0.10+0.01*i, lst[i][0], lst[i][1], lst[i][2]\n",
        "\n",
        "print('theta_opti : ', theta_opti)\n",
        "print('f1_opti ; ', f1_opti)\n",
        "print('precision_opti : ', precision_opti)\n",
        "print('recall_opti : ', recall_opti)"
      ],
      "execution_count": 21,
      "outputs": [
        {
          "output_type": "stream",
          "name": "stdout",
          "text": [
            "theta_opti :  0.58\n",
            "f1_opti ;  0.7928186699744908\n",
            "precision_opti :  0.8194111984734775\n",
            "recall_opti :  0.767897913240624\n"
          ]
        }
      ]
    },
    {
      "cell_type": "markdown",
      "metadata": {
        "id": "vHRG84xCcLd5"
      },
      "source": [
        "## Testing the Network"
      ]
    },
    {
      "cell_type": "code",
      "metadata": {
        "id": "6SERxTKYJ4S5",
        "colab": {
          "base_uri": "https://localhost:8080/"
        },
        "outputId": "75d55384-5c0b-4b10-a389-ceb7fb942064"
      },
      "source": [
        "predict_on_test(debug = False, theta = theta_opti)"
      ],
      "execution_count": 17,
      "outputs": [
        {
          "output_type": "stream",
          "name": "stderr",
          "text": [
            "201406it [01:34, 2124.94it/s]\n",
            "201406it [2:53:22, 19.36it/s]\n"
          ]
        }
      ]
    }
  ]
}